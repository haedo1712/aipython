{
  "nbformat": 4,
  "nbformat_minor": 0,
  "metadata": {
    "colab": {
      "provenance": [],
      "authorship_tag": "ABX9TyOZqi1sSClXLSiM2WdUf3yA",
      "include_colab_link": true
    },
    "kernelspec": {
      "name": "python3",
      "display_name": "Python 3"
    },
    "language_info": {
      "name": "python"
    }
  },
  "cells": [
    {
      "cell_type": "markdown",
      "metadata": {
        "id": "view-in-github",
        "colab_type": "text"
      },
      "source": [
        "<a href=\"https://colab.research.google.com/github/haedo1712/aipython/blob/main/250919.ipynb\" target=\"_parent\"><img src=\"https://colab.research.google.com/assets/colab-badge.svg\" alt=\"Open In Colab\"/></a>"
      ]
    },
    {
      "cell_type": "code",
      "execution_count": 1,
      "metadata": {
        "id": "I4tUlEWBcG-3"
      },
      "outputs": [],
      "source": [
        "#name 변수에 '홍길동'을 대입하고 age 변수에 18을 대입한 후 출력하는 프로그램\n",
        "name='홍길동'\n",
        "age=18"
      ]
    },
    {
      "cell_type": "code",
      "source": [
        "name"
      ],
      "metadata": {
        "colab": {
          "base_uri": "https://localhost:8080/",
          "height": 36
        },
        "id": "lXCkvtBNczhe",
        "outputId": "d9e4723a-aac9-4b57-dfe8-54f542cfaf4d"
      },
      "execution_count": 2,
      "outputs": [
        {
          "output_type": "execute_result",
          "data": {
            "text/plain": [
              "'홍길동'"
            ],
            "application/vnd.google.colaboratory.intrinsic+json": {
              "type": "string"
            }
          },
          "metadata": {},
          "execution_count": 2
        }
      ]
    },
    {
      "cell_type": "code",
      "source": [
        "age"
      ],
      "metadata": {
        "colab": {
          "base_uri": "https://localhost:8080/"
        },
        "id": "BHs5Vf1sc4O9",
        "outputId": "8b50ac4d-be10-4836-b51d-da6e476c5594"
      },
      "execution_count": 4,
      "outputs": [
        {
          "output_type": "execute_result",
          "data": {
            "text/plain": [
              "18"
            ]
          },
          "metadata": {},
          "execution_count": 4
        }
      ]
    },
    {
      "cell_type": "code",
      "source": [
        "print (name)"
      ],
      "metadata": {
        "colab": {
          "base_uri": "https://localhost:8080/"
        },
        "id": "S8QCznuJc85W",
        "outputId": "88649eb1-e366-4dd0-875e-9032bedd15ad"
      },
      "execution_count": 6,
      "outputs": [
        {
          "output_type": "stream",
          "name": "stdout",
          "text": [
            "홍길동\n"
          ]
        }
      ]
    },
    {
      "cell_type": "code",
      "source": [
        "print(age)"
      ],
      "metadata": {
        "colab": {
          "base_uri": "https://localhost:8080/"
        },
        "id": "FuN8L_3Qc_6W",
        "outputId": "d1a10954-64f0-4add-bec8-e7eb858a0c55"
      },
      "execution_count": 7,
      "outputs": [
        {
          "output_type": "stream",
          "name": "stdout",
          "text": [
            "18\n"
          ]
        }
      ]
    },
    {
      "cell_type": "code",
      "source": [
        "#c 에 7을 대입하고, 이 식의 값인 7을 b 에 대입하며, 마지막으로 7을 a 에 대입하여 a , b , c 모두에 7이 저장되도록 할 수 있습니다."
      ],
      "metadata": {
        "id": "zawzv6KzfMbL"
      },
      "execution_count": null,
      "outputs": []
    },
    {
      "cell_type": "code",
      "source": [
        "c=7"
      ],
      "metadata": {
        "id": "9zyL3AU7dCav"
      },
      "execution_count": 8,
      "outputs": []
    },
    {
      "cell_type": "code",
      "source": [
        "b=c"
      ],
      "metadata": {
        "id": "E3EAUNncdYnN"
      },
      "execution_count": 9,
      "outputs": []
    },
    {
      "cell_type": "code",
      "source": [
        "a=b"
      ],
      "metadata": {
        "id": "SU91u-bzdiEG"
      },
      "execution_count": 14,
      "outputs": []
    },
    {
      "cell_type": "code",
      "source": [
        "print (a,b,c)"
      ],
      "metadata": {
        "colab": {
          "base_uri": "https://localhost:8080/"
        },
        "id": "SJ7DFGsNeHv6",
        "outputId": "4de70511-b9c8-46b1-8b05-672cc2722ffe"
      },
      "execution_count": 19,
      "outputs": [
        {
          "output_type": "stream",
          "name": "stdout",
          "text": [
            "7 7 7\n"
          ]
        }
      ]
    },
    {
      "cell_type": "code",
      "source": [
        "c=4"
      ],
      "metadata": {
        "id": "wKQ3DBjmeNOS"
      },
      "execution_count": 20,
      "outputs": []
    },
    {
      "cell_type": "code",
      "source": [
        "print (a,b,c)"
      ],
      "metadata": {
        "colab": {
          "base_uri": "https://localhost:8080/"
        },
        "id": "qUxfu9w9eR8L",
        "outputId": "595ce0fb-d086-4105-88db-164d58837e8a"
      },
      "execution_count": 21,
      "outputs": [
        {
          "output_type": "stream",
          "name": "stdout",
          "text": [
            "7 7 4\n"
          ]
        }
      ]
    },
    {
      "cell_type": "code",
      "source": [
        "b=c"
      ],
      "metadata": {
        "id": "jzvyElySeVRX"
      },
      "execution_count": 22,
      "outputs": []
    },
    {
      "cell_type": "code",
      "source": [
        "a=b"
      ],
      "metadata": {
        "id": "Wb85HF7Peb0Q"
      },
      "execution_count": 23,
      "outputs": []
    },
    {
      "cell_type": "code",
      "source": [
        "print (a,b,c)"
      ],
      "metadata": {
        "colab": {
          "base_uri": "https://localhost:8080/"
        },
        "id": "nreE3shxecLK",
        "outputId": "a1b19623-9b9b-4a74-eca1-b452c11d5b82"
      },
      "execution_count": 24,
      "outputs": [
        {
          "output_type": "stream",
          "name": "stdout",
          "text": [
            "4 4 4\n"
          ]
        }
      ]
    },
    {
      "cell_type": "code",
      "source": [
        "#a 값에 7을 더한 값을 다시 a 에 대입하는 문장 ( a = a + 7 )은 += 기호를 이용하여 a += 7 과 같이 나타낼 수 있습니다."
      ],
      "metadata": {
        "id": "erGfvFbGec_Y"
      },
      "execution_count": 26,
      "outputs": []
    },
    {
      "cell_type": "code",
      "source": [
        "a+=7"
      ],
      "metadata": {
        "id": "41z1xLVefUFx"
      },
      "execution_count": 27,
      "outputs": []
    },
    {
      "cell_type": "code",
      "source": [
        "c=10\n",
        "b=c\n",
        "a=b"
      ],
      "metadata": {
        "id": "aDeA_7V3fpxP"
      },
      "execution_count": 29,
      "outputs": []
    },
    {
      "cell_type": "code",
      "source": [
        "a+=10"
      ],
      "metadata": {
        "id": "rDRZRCaOfzju"
      },
      "execution_count": 30,
      "outputs": []
    },
    {
      "cell_type": "code",
      "source": [
        "print (a,b,c)"
      ],
      "metadata": {
        "colab": {
          "base_uri": "https://localhost:8080/"
        },
        "id": "Ue4RDU-kf2L4",
        "outputId": "7b406689-8b7d-4f4e-f129-f97e09e7fbdb"
      },
      "execution_count": 31,
      "outputs": [
        {
          "output_type": "stream",
          "name": "stdout",
          "text": [
            "20 10 10\n"
          ]
        }
      ]
    },
    {
      "cell_type": "code",
      "source": [
        "_age=100"
      ],
      "metadata": {
        "id": "R90cASLSf3ic"
      },
      "execution_count": 32,
      "outputs": []
    },
    {
      "cell_type": "code",
      "source": [
        "__age=100"
      ],
      "metadata": {
        "id": "v0sXpPCBhyN5"
      },
      "execution_count": 33,
      "outputs": []
    },
    {
      "cell_type": "code",
      "source": [
        "age_you=100"
      ],
      "metadata": {
        "id": "79xBzhelhzg8"
      },
      "execution_count": 34,
      "outputs": []
    },
    {
      "cell_type": "code",
      "source": [
        "Age=100\n",
        "age=30"
      ],
      "metadata": {
        "id": "ponw3FIJiHEp"
      },
      "execution_count": 36,
      "outputs": []
    },
    {
      "cell_type": "code",
      "source": [
        "Age"
      ],
      "metadata": {
        "colab": {
          "base_uri": "https://localhost:8080/"
        },
        "id": "WP-shKZ_iPIw",
        "outputId": "3f255b0a-5ec6-4332-8ba4-04e997958167"
      },
      "execution_count": 37,
      "outputs": [
        {
          "output_type": "execute_result",
          "data": {
            "text/plain": [
              "100"
            ]
          },
          "metadata": {},
          "execution_count": 37
        }
      ]
    },
    {
      "cell_type": "code",
      "source": [
        "age"
      ],
      "metadata": {
        "colab": {
          "base_uri": "https://localhost:8080/"
        },
        "id": "IgDrrXM0iP2N",
        "outputId": "5f4d7d60-7aef-470c-a3a5-b73417a76c71"
      },
      "execution_count": 38,
      "outputs": [
        {
          "output_type": "execute_result",
          "data": {
            "text/plain": [
              "30"
            ]
          },
          "metadata": {},
          "execution_count": 38
        }
      ]
    },
    {
      "cell_type": "code",
      "source": [
        "a=7"
      ],
      "metadata": {
        "id": "jYsqPsaViQWi"
      },
      "execution_count": 39,
      "outputs": []
    },
    {
      "cell_type": "code",
      "source": [
        "a=7\n",
        "b=11\n",
        "A=a\n",
        "a=b\n",
        "b=A"
      ],
      "metadata": {
        "id": "T5Sx9Yrdinqg"
      },
      "execution_count": 49,
      "outputs": []
    },
    {
      "cell_type": "code",
      "source": [
        "a"
      ],
      "metadata": {
        "colab": {
          "base_uri": "https://localhost:8080/"
        },
        "id": "_4WCAJoEi0ya",
        "outputId": "d50cc6f7-7e9e-4d2b-845a-6b88552d766c"
      },
      "execution_count": 50,
      "outputs": [
        {
          "output_type": "execute_result",
          "data": {
            "text/plain": [
              "11"
            ]
          },
          "metadata": {},
          "execution_count": 50
        }
      ]
    },
    {
      "cell_type": "code",
      "source": [
        "b"
      ],
      "metadata": {
        "colab": {
          "base_uri": "https://localhost:8080/"
        },
        "id": "BRj0jQGXjpSW",
        "outputId": "5ff4704e-35f2-45f6-d571-e5d780e864c0"
      },
      "execution_count": 51,
      "outputs": [
        {
          "output_type": "execute_result",
          "data": {
            "text/plain": [
              "7"
            ]
          },
          "metadata": {},
          "execution_count": 51
        }
      ]
    },
    {
      "cell_type": "code",
      "source": [
        "a=11\n",
        "b=7\n",
        "a, b = b, a"
      ],
      "metadata": {
        "id": "4MY5hfRxh2Mt"
      },
      "execution_count": 53,
      "outputs": []
    },
    {
      "cell_type": "code",
      "source": [
        "a"
      ],
      "metadata": {
        "colab": {
          "base_uri": "https://localhost:8080/"
        },
        "id": "gaI6P5tGjpnq",
        "outputId": "c9477bfb-d9b2-4c48-c22d-ac4e49fde77a"
      },
      "execution_count": 54,
      "outputs": [
        {
          "output_type": "execute_result",
          "data": {
            "text/plain": [
              "7"
            ]
          },
          "metadata": {},
          "execution_count": 54
        }
      ]
    },
    {
      "cell_type": "code",
      "source": [
        "b"
      ],
      "metadata": {
        "colab": {
          "base_uri": "https://localhost:8080/"
        },
        "id": "P5OY6Md0ke8m",
        "outputId": "138b2402-33e2-47b1-c5af-6c317ed3402e"
      },
      "execution_count": 55,
      "outputs": [
        {
          "output_type": "execute_result",
          "data": {
            "text/plain": [
              "11"
            ]
          },
          "metadata": {},
          "execution_count": 55
        }
      ]
    },
    {
      "cell_type": "code",
      "metadata": {
        "colab": {
          "base_uri": "https://localhost:8080/"
        },
        "id": "0a2fc996",
        "outputId": "9bc5c883-35a9-4227-edf1-5c30717ae8cb"
      },
      "source": [
        "# 3의 배수 중 처음 네 개를 저장할 변수 초기화\n",
        "multiple_of_3 = 0\n",
        "\n",
        "# 첫 번째 3의 배수\n",
        "multiple_of_3 += 3\n",
        "print(f\"첫 번째 3의 배수: {multiple_of_3}\")\n",
        "\n",
        "# 두 번째 3의 배수\n",
        "multiple_of_3 += 3\n",
        "print(f\"두 번째 3의 배수: {multiple_of_3}\")\n",
        "\n",
        "# 세 번째 3의 배수\n",
        "multiple_of_3 += 3\n",
        "print(f\"세 번째 3의 배수: {multiple_of_3}\")\n",
        "\n",
        "# 네 번째 3의 배수\n",
        "multiple_of_3 += 3\n",
        "print(f\"네 번째 3의 배수: {multiple_of_3}\")"
      ],
      "execution_count": 57,
      "outputs": [
        {
          "output_type": "stream",
          "name": "stdout",
          "text": [
            "첫 번째 3의 배수: 3\n",
            "두 번째 3의 배수: 6\n",
            "세 번째 3의 배수: 9\n",
            "네 번째 3의 배수: 12\n"
          ]
        }
      ]
    },
    {
      "cell_type": "code",
      "source": [
        "del type"
      ],
      "metadata": {
        "id": "aw9Sg-Dfmv01"
      },
      "execution_count": 69,
      "outputs": []
    },
    {
      "cell_type": "code",
      "source": [
        "type(age)"
      ],
      "metadata": {
        "colab": {
          "base_uri": "https://localhost:8080/"
        },
        "id": "0_dO6o8ynk42",
        "outputId": "f6aff33b-0230-43ae-8694-f50919540618"
      },
      "execution_count": 70,
      "outputs": [
        {
          "output_type": "execute_result",
          "data": {
            "text/plain": [
              "int"
            ]
          },
          "metadata": {},
          "execution_count": 70
        }
      ]
    },
    {
      "cell_type": "code",
      "source": [],
      "metadata": {
        "id": "mZHGyGZsnmEa"
      },
      "execution_count": null,
      "outputs": []
    },
    {
      "cell_type": "code",
      "metadata": {
        "colab": {
          "base_uri": "https://localhost:8080/"
        },
        "id": "1753668a",
        "outputId": "52363e61-e05b-4b31-e225-57405b6f7810"
      },
      "source": [
        "a = 20\n",
        "b = 0o34\n",
        "c = 0xA1\n",
        "d = 0b1110\n",
        "\n",
        "print(a)\n",
        "print(b)\n",
        "print(c)\n",
        "print(d)"
      ],
      "execution_count": 73,
      "outputs": [
        {
          "output_type": "stream",
          "name": "stdout",
          "text": [
            "20\n",
            "28\n",
            "161\n",
            "14\n"
          ]
        }
      ]
    },
    {
      "cell_type": "code",
      "source": [
        "a,b,c,d= 1,2,3,4"
      ],
      "metadata": {
        "id": "XMsVGJDaqrBx"
      },
      "execution_count": 74,
      "outputs": []
    },
    {
      "cell_type": "code",
      "source": [
        "a"
      ],
      "metadata": {
        "colab": {
          "base_uri": "https://localhost:8080/"
        },
        "id": "kc6ef9OCr8Vq",
        "outputId": "c808fd45-ffe4-4ffb-ff74-588bdc012c00"
      },
      "execution_count": 75,
      "outputs": [
        {
          "output_type": "execute_result",
          "data": {
            "text/plain": [
              "1"
            ]
          },
          "metadata": {},
          "execution_count": 75
        }
      ]
    },
    {
      "cell_type": "code",
      "source": [
        "b"
      ],
      "metadata": {
        "colab": {
          "base_uri": "https://localhost:8080/"
        },
        "id": "Fg1oEN11r_LQ",
        "outputId": "028d9d2a-143c-4488-c2a0-d6d1ed40c449"
      },
      "execution_count": 77,
      "outputs": [
        {
          "output_type": "execute_result",
          "data": {
            "text/plain": [
              "2"
            ]
          },
          "metadata": {},
          "execution_count": 77
        }
      ]
    },
    {
      "cell_type": "code",
      "source": [
        "c"
      ],
      "metadata": {
        "colab": {
          "base_uri": "https://localhost:8080/"
        },
        "id": "Of_rGJ8usCQP",
        "outputId": "569b7458-2afc-4630-a113-40c4a459cbc3"
      },
      "execution_count": 78,
      "outputs": [
        {
          "output_type": "execute_result",
          "data": {
            "text/plain": [
              "3"
            ]
          },
          "metadata": {},
          "execution_count": 78
        }
      ]
    },
    {
      "cell_type": "code",
      "source": [
        "d"
      ],
      "metadata": {
        "colab": {
          "base_uri": "https://localhost:8080/"
        },
        "id": "LMuJTIYrsCkh",
        "outputId": "3cad0699-bede-446d-f400-0da91f95272f"
      },
      "execution_count": 79,
      "outputs": [
        {
          "output_type": "execute_result",
          "data": {
            "text/plain": [
              "4"
            ]
          },
          "metadata": {},
          "execution_count": 79
        }
      ]
    },
    {
      "cell_type": "code",
      "source": [
        "10>20"
      ],
      "metadata": {
        "colab": {
          "base_uri": "https://localhost:8080/"
        },
        "id": "4-zs8tvJsCy2",
        "outputId": "f82153bb-e2a8-4c19-9d92-42b319438844"
      },
      "execution_count": 80,
      "outputs": [
        {
          "output_type": "execute_result",
          "data": {
            "text/plain": [
              "False"
            ]
          },
          "metadata": {},
          "execution_count": 80
        }
      ]
    },
    {
      "cell_type": "code",
      "source": [
        "a=10>20"
      ],
      "metadata": {
        "id": "aJLIlbq_sHlM"
      },
      "execution_count": 81,
      "outputs": []
    },
    {
      "cell_type": "code",
      "source": [
        "a"
      ],
      "metadata": {
        "colab": {
          "base_uri": "https://localhost:8080/"
        },
        "id": "x1ZwKUoLsN22",
        "outputId": "34fa1f30-03e3-4ee2-f620-caa44fe46824"
      },
      "execution_count": 82,
      "outputs": [
        {
          "output_type": "execute_result",
          "data": {
            "text/plain": [
              "False"
            ]
          },
          "metadata": {},
          "execution_count": 82
        }
      ]
    },
    {
      "cell_type": "code",
      "source": [
        "type(a)"
      ],
      "metadata": {
        "colab": {
          "base_uri": "https://localhost:8080/"
        },
        "id": "rmtCy9jesORl",
        "outputId": "9cf376f1-a9ba-4de2-b3c2-540ebe2fdfd8"
      },
      "execution_count": 83,
      "outputs": [
        {
          "output_type": "execute_result",
          "data": {
            "text/plain": [
              "bool"
            ]
          },
          "metadata": {},
          "execution_count": 83
        }
      ]
    },
    {
      "cell_type": "code",
      "source": [
        "a='Python'"
      ],
      "metadata": {
        "id": "PjVB3eP0sUHx"
      },
      "execution_count": 84,
      "outputs": []
    },
    {
      "cell_type": "code",
      "source": [
        "a"
      ],
      "metadata": {
        "colab": {
          "base_uri": "https://localhost:8080/",
          "height": 36
        },
        "id": "yAE6aGm-sobQ",
        "outputId": "1d7e92f0-cb90-41b4-d03d-e6e087c9be02"
      },
      "execution_count": 85,
      "outputs": [
        {
          "output_type": "execute_result",
          "data": {
            "text/plain": [
              "'Python'"
            ],
            "application/vnd.google.colaboratory.intrinsic+json": {
              "type": "string"
            }
          },
          "metadata": {},
          "execution_count": 85
        }
      ]
    },
    {
      "cell_type": "code",
      "source": [
        "a=\"Python\""
      ],
      "metadata": {
        "id": "dbkJvlalso6_"
      },
      "execution_count": 86,
      "outputs": []
    },
    {
      "cell_type": "code",
      "source": [
        "a"
      ],
      "metadata": {
        "colab": {
          "base_uri": "https://localhost:8080/",
          "height": 36
        },
        "id": "gswiKjW5sq_W",
        "outputId": "fcb9a389-667b-4b2e-e8ce-d6185db75ac9"
      },
      "execution_count": 87,
      "outputs": [
        {
          "output_type": "execute_result",
          "data": {
            "text/plain": [
              "'Python'"
            ],
            "application/vnd.google.colaboratory.intrinsic+json": {
              "type": "string"
            }
          },
          "metadata": {},
          "execution_count": 87
        }
      ]
    },
    {
      "cell_type": "code",
      "source": [
        "print('HI'+'Python')"
      ],
      "metadata": {
        "colab": {
          "base_uri": "https://localhost:8080/"
        },
        "id": "ub-Gz5zUsrZ8",
        "outputId": "a07b9ca4-180e-476e-ffbc-33a51f9aa9a5"
      },
      "execution_count": 88,
      "outputs": [
        {
          "output_type": "stream",
          "name": "stdout",
          "text": [
            "HIPython\n"
          ]
        }
      ]
    },
    {
      "cell_type": "code",
      "source": [
        "a='김치'\n",
        "b='찌개'\n",
        "print(a+b)"
      ],
      "metadata": {
        "colab": {
          "base_uri": "https://localhost:8080/"
        },
        "id": "F8ttd7OitBMV",
        "outputId": "cbf9f19a-9765-44e8-91b6-d63116b30429"
      },
      "execution_count": 91,
      "outputs": [
        {
          "output_type": "stream",
          "name": "stdout",
          "text": [
            "김치찌개\n"
          ]
        }
      ]
    },
    {
      "cell_type": "code",
      "source": [
        "a=10\n",
        "b='time'\n",
        "c=str(a)+b\n",
        "print(c)"
      ],
      "metadata": {
        "colab": {
          "base_uri": "https://localhost:8080/"
        },
        "id": "14aSoL6LtdHE",
        "outputId": "4830f44f-c29f-45a4-a507-59ea78c60ff7"
      },
      "execution_count": 92,
      "outputs": [
        {
          "output_type": "stream",
          "name": "stdout",
          "text": [
            "10time\n"
          ]
        }
      ]
    },
    {
      "cell_type": "code",
      "source": [
        "a=10\n",
        "b='10'\n",
        "c=a+int(b)\n",
        "print(c)"
      ],
      "metadata": {
        "colab": {
          "base_uri": "https://localhost:8080/"
        },
        "id": "kPbO_kYBt9z8",
        "outputId": "da1d91a1-dcb4-445d-e263-739cdfe98161"
      },
      "execution_count": 94,
      "outputs": [
        {
          "output_type": "stream",
          "name": "stdout",
          "text": [
            "20\n"
          ]
        }
      ]
    },
    {
      "cell_type": "code",
      "source": [
        "type(b)"
      ],
      "metadata": {
        "colab": {
          "base_uri": "https://localhost:8080/"
        },
        "id": "7v-yOHbhuO9k",
        "outputId": "5fd05e7e-5221-4925-f7b4-13d36879675a"
      },
      "execution_count": 95,
      "outputs": [
        {
          "output_type": "execute_result",
          "data": {
            "text/plain": [
              "str"
            ]
          },
          "metadata": {},
          "execution_count": 95
        }
      ]
    },
    {
      "cell_type": "code",
      "source": [
        "b=int(b)"
      ],
      "metadata": {
        "id": "EK1-du10ucVy"
      },
      "execution_count": 96,
      "outputs": []
    },
    {
      "cell_type": "code",
      "source": [
        "type(b)"
      ],
      "metadata": {
        "colab": {
          "base_uri": "https://localhost:8080/"
        },
        "id": "FWNry6-xugqb",
        "outputId": "457c04c5-cfbb-4893-f5d3-b112f8b0956a"
      },
      "execution_count": 97,
      "outputs": [
        {
          "output_type": "execute_result",
          "data": {
            "text/plain": [
              "int"
            ]
          },
          "metadata": {},
          "execution_count": 97
        }
      ]
    },
    {
      "cell_type": "code",
      "source": [
        "c=a+float(b)"
      ],
      "metadata": {
        "id": "R4TkN6uNuhvd"
      },
      "execution_count": 98,
      "outputs": []
    },
    {
      "cell_type": "code",
      "source": [
        "c"
      ],
      "metadata": {
        "colab": {
          "base_uri": "https://localhost:8080/"
        },
        "id": "6L863024usik",
        "outputId": "de14299f-c938-4f5b-b7f5-f7895ed29c1c"
      },
      "execution_count": 99,
      "outputs": [
        {
          "output_type": "execute_result",
          "data": {
            "text/plain": [
              "20.0"
            ]
          },
          "metadata": {},
          "execution_count": 99
        }
      ]
    },
    {
      "cell_type": "code",
      "source": [
        "print(int(c))"
      ],
      "metadata": {
        "colab": {
          "base_uri": "https://localhost:8080/"
        },
        "id": "pt_1vchwutiL",
        "outputId": "58e19170-91f4-4ebd-df87-e04f5ac0daec"
      },
      "execution_count": 100,
      "outputs": [
        {
          "output_type": "stream",
          "name": "stdout",
          "text": [
            "20\n"
          ]
        }
      ]
    },
    {
      "cell_type": "code",
      "source": [
        "name=input()\n",
        "age=input()"
      ],
      "metadata": {
        "colab": {
          "base_uri": "https://localhost:8080/"
        },
        "id": "-EtqG4Adu0jh",
        "outputId": "83f547e2-1d29-4584-9428-a0d27a88a75e"
      },
      "execution_count": 101,
      "outputs": [
        {
          "name": "stdout",
          "output_type": "stream",
          "text": [
            "설해도\n",
            "21\n"
          ]
        }
      ]
    },
    {
      "cell_type": "code",
      "source": [
        "name"
      ],
      "metadata": {
        "colab": {
          "base_uri": "https://localhost:8080/",
          "height": 36
        },
        "id": "CCIFtsUzvkW9",
        "outputId": "ac6d55ea-7b02-4664-9401-2370e4a43d01"
      },
      "execution_count": 102,
      "outputs": [
        {
          "output_type": "execute_result",
          "data": {
            "text/plain": [
              "'설해도'"
            ],
            "application/vnd.google.colaboratory.intrinsic+json": {
              "type": "string"
            }
          },
          "metadata": {},
          "execution_count": 102
        }
      ]
    },
    {
      "cell_type": "code",
      "source": [
        "age"
      ],
      "metadata": {
        "colab": {
          "base_uri": "https://localhost:8080/",
          "height": 36
        },
        "id": "R5PkVnAovpWZ",
        "outputId": "c520c03e-a99c-4d55-b8b2-c635fbfb06dc"
      },
      "execution_count": 103,
      "outputs": [
        {
          "output_type": "execute_result",
          "data": {
            "text/plain": [
              "'21'"
            ],
            "application/vnd.google.colaboratory.intrinsic+json": {
              "type": "string"
            }
          },
          "metadata": {},
          "execution_count": 103
        }
      ]
    },
    {
      "cell_type": "code",
      "source": [
        "name=input('이름을 입혁하세요')\n",
        "age=input('나이를 입력하세요')"
      ],
      "metadata": {
        "colab": {
          "base_uri": "https://localhost:8080/"
        },
        "id": "SH-VNz9QvqET",
        "outputId": "786bc154-4f76-4465-bd6f-1781b389ce5c"
      },
      "execution_count": 106,
      "outputs": [
        {
          "name": "stdout",
          "output_type": "stream",
          "text": [
            "이름을 입혁하세요서랳도\n",
            "나이를 입력하세요21\n"
          ]
        }
      ]
    },
    {
      "cell_type": "code",
      "source": [
        "name"
      ],
      "metadata": {
        "colab": {
          "base_uri": "https://localhost:8080/",
          "height": 36
        },
        "id": "5q1JNfH6vx8p",
        "outputId": "a6650a4d-ebbe-45ea-a47a-6b90282473fd"
      },
      "execution_count": 107,
      "outputs": [
        {
          "output_type": "execute_result",
          "data": {
            "text/plain": [
              "'서랳도'"
            ],
            "application/vnd.google.colaboratory.intrinsic+json": {
              "type": "string"
            }
          },
          "metadata": {},
          "execution_count": 107
        }
      ]
    },
    {
      "cell_type": "code",
      "source": [
        "age"
      ],
      "metadata": {
        "colab": {
          "base_uri": "https://localhost:8080/",
          "height": 36
        },
        "id": "lmDvCxU4v8Dr",
        "outputId": "60341756-6378-473d-a517-621452e15b60"
      },
      "execution_count": 108,
      "outputs": [
        {
          "output_type": "execute_result",
          "data": {
            "text/plain": [
              "'21'"
            ],
            "application/vnd.google.colaboratory.intrinsic+json": {
              "type": "string"
            }
          },
          "metadata": {},
          "execution_count": 108
        }
      ]
    },
    {
      "cell_type": "code",
      "source": [
        "type(age)"
      ],
      "metadata": {
        "colab": {
          "base_uri": "https://localhost:8080/"
        },
        "id": "mrElCGNav9C9",
        "outputId": "c1dca52c-b0b2-4df0-b75b-66d090be3339"
      },
      "execution_count": 109,
      "outputs": [
        {
          "output_type": "execute_result",
          "data": {
            "text/plain": [
              "str"
            ]
          },
          "metadata": {},
          "execution_count": 109
        }
      ]
    },
    {
      "cell_type": "code",
      "source": [
        "age=int(input('나이를 입력하세요'))"
      ],
      "metadata": {
        "colab": {
          "base_uri": "https://localhost:8080/"
        },
        "id": "YZghRDsnwA34",
        "outputId": "af9ab51b-6129-4519-923e-9fd6d0f6df16"
      },
      "execution_count": 110,
      "outputs": [
        {
          "name": "stdout",
          "output_type": "stream",
          "text": [
            "나이를 입력하세요12\n"
          ]
        }
      ]
    },
    {
      "cell_type": "code",
      "source": [
        "type(age)"
      ],
      "metadata": {
        "colab": {
          "base_uri": "https://localhost:8080/"
        },
        "id": "-7QjRIOhwHG3",
        "outputId": "2ebcfb54-b9a2-4ac0-8148-9b5c362e0f91"
      },
      "execution_count": 111,
      "outputs": [
        {
          "output_type": "execute_result",
          "data": {
            "text/plain": [
              "int"
            ]
          },
          "metadata": {},
          "execution_count": 111
        }
      ]
    },
    {
      "cell_type": "code",
      "source": [
        "age=int(input('나이를 입력하세요'))+2"
      ],
      "metadata": {
        "colab": {
          "base_uri": "https://localhost:8080/"
        },
        "id": "2KCjM3B1wJQt",
        "outputId": "8af0b048-3cc1-4c19-c543-7d64d6be379e"
      },
      "execution_count": 112,
      "outputs": [
        {
          "name": "stdout",
          "output_type": "stream",
          "text": [
            "나이를 입력하세요12\n"
          ]
        }
      ]
    },
    {
      "cell_type": "code",
      "source": [
        "age"
      ],
      "metadata": {
        "colab": {
          "base_uri": "https://localhost:8080/"
        },
        "id": "RR3MNFAQwUrE",
        "outputId": "cabbd7bc-c6a5-4907-c20d-9af60e447a94"
      },
      "execution_count": 116,
      "outputs": [
        {
          "output_type": "execute_result",
          "data": {
            "text/plain": [
              "14"
            ]
          },
          "metadata": {},
          "execution_count": 116
        }
      ]
    },
    {
      "cell_type": "code",
      "source": [
        "age=int(input('나이를 입력하세요'))+2\n",
        "print(age)"
      ],
      "metadata": {
        "colab": {
          "base_uri": "https://localhost:8080/"
        },
        "id": "eOCv9MA3wVvp",
        "outputId": "d971d373-1ccc-480c-e8d5-a05cc9fce756"
      },
      "execution_count": 117,
      "outputs": [
        {
          "output_type": "stream",
          "name": "stdout",
          "text": [
            "나이를 입력하세요32\n",
            "34\n"
          ]
        }
      ]
    },
    {
      "cell_type": "code",
      "source": [
        "a=int(input('첫번쨰 정수'))\n",
        "b=int(input('두번쨰 정수'))\n",
        "print(a-b)\n"
      ],
      "metadata": {
        "colab": {
          "base_uri": "https://localhost:8080/"
        },
        "id": "4A0-w54ex2dD",
        "outputId": "4a32e058-a818-407c-a2ee-cb87b71eecce"
      },
      "execution_count": 120,
      "outputs": [
        {
          "output_type": "stream",
          "name": "stdout",
          "text": [
            "첫번쨰 정수9\n",
            "두번쨰 정수5\n",
            "4\n"
          ]
        }
      ]
    },
    {
      "cell_type": "code",
      "source": [
        "a,b=int(input('a')),int(input('b'))\n",
        "print(a-b)"
      ],
      "metadata": {
        "colab": {
          "base_uri": "https://localhost:8080/"
        },
        "id": "laIz27g9yOGu",
        "outputId": "90f4dd78-5312-429d-8ded-45930cbe324e"
      },
      "execution_count": 122,
      "outputs": [
        {
          "output_type": "stream",
          "name": "stdout",
          "text": [
            "a9\n",
            "b5\n",
            "4\n"
          ]
        }
      ]
    },
    {
      "cell_type": "markdown",
      "metadata": {
        "id": "99366b5f"
      },
      "source": [
        "### f-문자열 (f-string) 설명 및 예시\n",
        "\n",
        "f-문자열은 문자열 안에 변수나 표현식의 값을 간결하게 삽입할 수 있는 파이썬의 문자열 포맷팅 방법입니다. 문자열 앞에 `f` 또는 `F`를 붙여 사용합니다."
      ]
    },
    {
      "cell_type": "code",
      "metadata": {
        "colab": {
          "base_uri": "https://localhost:8080/"
        },
        "id": "1a15cac5",
        "outputId": "995e5ea5-bc7a-4b0f-ffb3-e02b1c0d9a55"
      },
      "source": [
        "# 변수 정의\n",
        "name = \"홍길동\"\n",
        "age = 30\n",
        "\n",
        "# f-문자열을 사용하여 변수 값을 문자열에 삽입\n",
        "greeting = f\"안녕하세요, 제 이름은 {name}이고 나이는 {age}살입니다.\"\n",
        "print(greeting)"
      ],
      "execution_count": 123,
      "outputs": [
        {
          "output_type": "stream",
          "name": "stdout",
          "text": [
            "안녕하세요, 제 이름은 홍길동이고 나이는 30살입니다.\n"
          ]
        }
      ]
    },
    {
      "cell_type": "markdown",
      "metadata": {
        "id": "f5e040b9"
      },
      "source": [
        "f-문자열 안에는 변수뿐만 아니라 파이썬 표현식도 직접 사용할 수 있습니다."
      ]
    },
    {
      "cell_type": "code",
      "metadata": {
        "colab": {
          "base_uri": "https://localhost:8080/",
          "height": 108
        },
        "id": "b5ecf29a",
        "outputId": "3c74d49a-44a7-45b4-ee8c-20e49add4a7f"
      },
      "source": [
        "# 표현식을 f-문자열 안에 사용\n",
        "x = int(input('a ='))\n",
        "y = int(input('b ='))\n",
        "result = f\"{x} + {y} = {x + y}\"\n",
        "print(result)"
      ],
      "execution_count": 129,
      "outputs": [
        {
          "output_type": "error",
          "ename": "SyntaxError",
          "evalue": "invalid decimal literal (ipython-input-3017355492.py, line 4)",
          "traceback": [
            "\u001b[0;36m  File \u001b[0;32m\"/tmp/ipython-input-3017355492.py\"\u001b[0;36m, line \u001b[0;32m4\u001b[0m\n\u001b[0;31m    result = 2f\"{x} + {y} = {x + y}\"\u001b[0m\n\u001b[0m             ^\u001b[0m\n\u001b[0;31mSyntaxError\u001b[0m\u001b[0;31m:\u001b[0m invalid decimal literal\n"
          ]
        }
      ]
    },
    {
      "cell_type": "markdown",
      "metadata": {
        "id": "0acb77b9"
      },
      "source": [
        "f-문자열은 가독성이 좋고 다른 문자열 포맷팅 방법 (예: `%` 연산자나 `str.format()`)보다 성능이 빠릅니다."
      ]
    },
    {
      "cell_type": "code",
      "source": [
        "x=float(input('반지름'))\n",
        "result=(f\"반지름이 {x}인 원의 넓이는 {x*x*3.14:.2f}입니다.\")\n",
        "print((result))"
      ],
      "metadata": {
        "colab": {
          "base_uri": "https://localhost:8080/"
        },
        "id": "sm413HpA1UcK",
        "outputId": "ee21aebd-17c2-4729-afcc-1d51f6c20419"
      },
      "execution_count": 138,
      "outputs": [
        {
          "output_type": "stream",
          "name": "stdout",
          "text": [
            "반지름1.123123\n",
            "반지름이 1.123123인 원의 넓이는 3.96입니다.\n"
          ]
        }
      ]
    },
    {
      "cell_type": "code",
      "source": [],
      "metadata": {
        "id": "tJsqd5OJ2cYB"
      },
      "execution_count": null,
      "outputs": []
    }
  ]
}